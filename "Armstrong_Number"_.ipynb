{
  "nbformat": 4,
  "nbformat_minor": 0,
  "metadata": {
    "colab": {
      "name": "\"Armstrong Number\"..ipynb",
      "provenance": [],
      "authorship_tag": "ABX9TyOfQCusFIsnqSJXX2WH7yBk",
      "include_colab_link": true
    },
    "kernelspec": {
      "name": "python3",
      "display_name": "Python 3"
    },
    "language_info": {
      "name": "python"
    }
  },
  "cells": [
    {
      "cell_type": "markdown",
      "metadata": {
        "id": "view-in-github",
        "colab_type": "text"
      },
      "source": [
        "<a href=\"https://colab.research.google.com/github/TuncayArican/Python-Assignment/blob/main/%22Armstrong_Number%22_.ipynb\" target=\"_parent\"><img src=\"https://colab.research.google.com/assets/colab-badge.svg\" alt=\"Open In Colab\"/></a>"
      ]
    },
    {
      "cell_type": "markdown",
      "metadata": {
        "id": "iXV4YvZkUbIy"
      },
      "source": [
        "Find out if a given number is an \"Armstrong Number\".\n",
        "\n",
        "An n-digit number that is the sum of the nth powers of its digits is called an n-Armstrong number. Examples :\n",
        "371 = 33 + 73 + 13;\n",
        "9474 = 94 + 44 + 74 + 44;\n",
        "93084 = 95 + 35 + 05 + 85 + 45.\n",
        "\n",
        "Write a Python program that;\n",
        "takes a positive integer number from the user,\n",
        "checks the entered number if it is Armstrong,\n",
        "consider the negative, float and any entries other than numeric values then display a warning message to the user."
      ]
    },
    {
      "cell_type": "code",
      "metadata": {
        "colab": {
          "base_uri": "https://localhost:8080/"
        },
        "id": "gkWOxAtkUfr7",
        "outputId": "c9696994-f4ca-450a-c40e-dae31d72fec6"
      },
      "source": [
        "number = input(\"Please enter a number:   \")\n",
        "toplam=0\n",
        "if number.isnumeric() :\n",
        "  for i in range(0,len(number)) :\n",
        "    toplam+=(int(number[i])**len(number))\n",
        "  if toplam == int(number) :\n",
        "    print(\"This is an Armstrong number\")  \n",
        "  else: \n",
        "    print(\"This is not an Amstrong number\")\n",
        "else: \n",
        "   print(\"Please enter a positive integer number \")  "
      ],
      "execution_count": 19,
      "outputs": [
        {
          "output_type": "stream",
          "name": "stdout",
          "text": [
            "Lütfen sayıyı giriniz:   -341\n",
            "Please enter a positive integer number \n"
          ]
        }
      ]
    }
  ]
}