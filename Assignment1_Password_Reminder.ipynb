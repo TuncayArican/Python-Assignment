{
  "nbformat": 4,
  "nbformat_minor": 0,
  "metadata": {
    "colab": {
      "name": "Assignment1_Password.ipynb",
      "provenance": [],
      "authorship_tag": "ABX9TyOhiqRZLrJVWQ9HXKpShvUC",
      "include_colab_link": true
    },
    "kernelspec": {
      "name": "python3",
      "display_name": "Python 3"
    },
    "language_info": {
      "name": "python"
    }
  },
  "cells": [
    {
      "cell_type": "markdown",
      "metadata": {
        "id": "view-in-github",
        "colab_type": "text"
      },
      "source": [
        "<a href=\"https://colab.research.google.com/github/TuncayArican/Python-Assignment/blob/main/Assignment1_Password_Reminder.ipynb\" target=\"_parent\"><img src=\"https://colab.research.google.com/assets/colab-badge.svg\" alt=\"Open In Colab\"/></a>"
      ]
    },
    {
      "cell_type": "markdown",
      "metadata": {
        "id": "7l0G4N0br9CI"
      },
      "source": [
        "Task : Let's say; you left a message in the past that prints a password you need. To see the password you wrote, you need to enter your name and the program should recognize you.\n",
        "Write a program that \n",
        "\n",
        "Takes the first name from the user and compares it to yours,\n",
        "Then if the name the user entered is the same as yours, print out such as : \"Hello, Joseph! The password is : W@12\",\n",
        "If the name the user entered is not the same as yours, print out such as : \"Hello, Amina! See you later.\""
      ]
    },
    {
      "cell_type": "code",
      "metadata": {
        "colab": {
          "base_uri": "https://localhost:8080/"
        },
        "id": "ElpbZcZur-9o",
        "outputId": "8d025eab-2d83-4dec-9606-c1af3ca20bca"
      },
      "source": [
        "name=input(\"Please enter your name :      \").title()\n",
        "if name == \"Murat\" :\n",
        "  print(\"Hello, Tuncay! The password is : Butterfly\")\n",
        "else: \n",
        "  print (\"Hello, Amina! See you later.\")"
      ],
      "execution_count": null,
      "outputs": [
        {
          "output_type": "stream",
          "name": "stdout",
          "text": [
            "Please enter your name :      tuncay\n",
            "Hello, Tuncay! The password is : Butterfly\n"
          ]
        }
      ]
    }
  ]
}
