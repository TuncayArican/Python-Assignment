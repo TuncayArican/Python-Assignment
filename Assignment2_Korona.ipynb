{
  "nbformat": 4,
  "nbformat_minor": 0,
  "metadata": {
    "colab": {
      "name": "Assignment2-Korona.ipynb",
      "provenance": [],
      "authorship_tag": "ABX9TyP0rBTIAy6Sl7EkdBQU6pyY",
      "include_colab_link": true
    },
    "kernelspec": {
      "name": "python3",
      "display_name": "Python 3"
    },
    "language_info": {
      "name": "python"
    }
  },
  "cells": [
    {
      "cell_type": "markdown",
      "metadata": {
        "id": "view-in-github",
        "colab_type": "text"
      },
      "source": [
        "<a href=\"https://colab.research.google.com/github/TuncayArican/Python-Assignment/blob/main/Assignment2_Korona.ipynb\" target=\"_parent\"><img src=\"https://colab.research.google.com/assets/colab-badge.svg\" alt=\"Open In Colab\"/></a>"
      ]
    },
    {
      "cell_type": "markdown",
      "metadata": {
        "id": "JcnJ5I4wtjVv"
      },
      "source": [
        "Task : Estimating the risk of death from coronavirus. Write a program that;\n",
        "\n",
        "Takes \"Yes\" or \"No\" from the user as an answer to the following questions :\n",
        "\n",
        "Are you a cigarette addict older than 75 years old? Variable → age\n",
        "\n",
        "Do you have a severe chronic disease? Variable → chronic\n",
        "\n",
        "Is your immune system too weak? Variable → immune\n",
        "\n",
        "Set a logical algorithm using boolean logic operators (and/or) and use if-statements with the given variables in order to print out us a message : \"You are in risky group\"(if True ) or \"You are not in risky group\" (if False)."
      ]
    },
    {
      "cell_type": "code",
      "metadata": {
        "colab": {
          "base_uri": "https://localhost:8080/"
        },
        "id": "DtVnugUlttZ_",
        "outputId": "2d6273b5-63cb-4089-c3b4-84d33b0555a5"
      },
      "source": [
        "age = input(\"Are you a cigarette addict older than 75 years old? (Yes/No): \")\n",
        "chronic = input(\"Do you have a severe chronic disease? (Yes/No): \")\n",
        "immune  = input(\"Is your immune system too weak? (Yes/No): \")\n",
        "\n",
        "if age.title() == \"Yes\" or chronic.title() == \"Yes\" or immune.title() == \"Yes\":\n",
        "  print(\"You are in risky group\")\n",
        "else:\n",
        "  print(\"You are not in risky group\")\n"
      ],
      "execution_count": null,
      "outputs": [
        {
          "output_type": "stream",
          "name": "stdout",
          "text": [
            "Are you a cigarette addict older than 75 years old? (Yes/No): no\n",
            "Do you have a severe chronic disease? (Yes/No): no\n",
            "Is your immune system too weak? (Yes/No): no\n",
            "You are not in risky group\n"
          ]
        }
      ]
    }
  ]
}