{
  "nbformat": 4,
  "nbformat_minor": 0,
  "metadata": {
    "colab": {
      "name": "Assignment - 10/06 (Prime Numbers).ipynb",
      "provenance": [],
      "authorship_tag": "ABX9TyMTca+5PjLfEvUH1x0wkj2b",
      "include_colab_link": true
    },
    "kernelspec": {
      "name": "python3",
      "display_name": "Python 3"
    },
    "language_info": {
      "name": "python"
    }
  },
  "cells": [
    {
      "cell_type": "markdown",
      "metadata": {
        "id": "view-in-github",
        "colab_type": "text"
      },
      "source": [
        "<a href=\"https://colab.research.google.com/github/TuncayArican/Python-Assignment/blob/main/Assignment_10_06_(Prime_Numbers).ipynb\" target=\"_parent\"><img src=\"https://colab.research.google.com/assets/colab-badge.svg\" alt=\"Open In Colab\"/></a>"
      ]
    },
    {
      "cell_type": "markdown",
      "metadata": {
        "id": "45DZg6DnjebA"
      },
      "source": [
        "Task : Print the prime numbers which are between 1 to entered limit number (n)."
      ]
    },
    {
      "cell_type": "code",
      "metadata": {
        "colab": {
          "base_uri": "https://localhost:8080/"
        },
        "id": "SOHrBKuSjjio",
        "outputId": "68fcf22c-8d01-4912-c18f-df169f9bbd58"
      },
      "source": [
        "number=40\n",
        "list1=[2]\n",
        "sayaç=0\n",
        "for i in range(3,number+1):\n",
        "  for j in range(2,i):\n",
        "    if i%j ==0 :\n",
        "      sayaç=sayaç+1\n",
        "  if sayaç==0:\n",
        "    list1.append(i)\n",
        "  else:\n",
        "      sayaç=0\n",
        "list1      \n"
      ],
      "execution_count": 52,
      "outputs": [
        {
          "output_type": "execute_result",
          "data": {
            "text/plain": [
              "[2, 3, 5, 7, 11, 13, 17, 19, 23, 29, 31, 37]"
            ]
          },
          "metadata": {},
          "execution_count": 52
        }
      ]
    },
    {
      "cell_type": "code",
      "metadata": {
        "colab": {
          "base_uri": "https://localhost:8080/"
        },
        "id": "I4_734wLkIoT",
        "outputId": "25182f5d-1a47-4f96-f39a-3b3448cfb911"
      },
      "source": [
        "\n",
        "sayı = 40\n",
        "\n",
        "list2=[]\n",
        "for i in range(sayı+1):\n",
        "    if i > 1:\n",
        "        for j in range(2, i):\n",
        "            if(i % j == 0):\n",
        "                break\n",
        "        else:\n",
        "            list2.append(i)\n",
        "list2            "
      ],
      "execution_count": 51,
      "outputs": [
        {
          "output_type": "execute_result",
          "data": {
            "text/plain": [
              "[2, 3, 5, 7, 11, 13, 17, 19, 23, 29, 31, 37]"
            ]
          },
          "metadata": {},
          "execution_count": 51
        }
      ]
    },
    {
      "cell_type": "code",
      "metadata": {
        "id": "KhGx3eMEq-Ga"
      },
      "source": [
        ""
      ],
      "execution_count": null,
      "outputs": []
    }
  ]
}