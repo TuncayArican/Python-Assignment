{
  "nbformat": 4,
  "nbformat_minor": 0,
  "metadata": {
    "colab": {
      "name": "Assignment - 10/08 (Letters Count).ipynb",
      "provenance": [],
      "authorship_tag": "ABX9TyOfbTU32vTuSCq8/CHoFO36",
      "include_colab_link": true
    },
    "kernelspec": {
      "name": "python3",
      "display_name": "Python 3"
    },
    "language_info": {
      "name": "python"
    }
  },
  "cells": [
    {
      "cell_type": "markdown",
      "metadata": {
        "id": "view-in-github",
        "colab_type": "text"
      },
      "source": [
        "<a href=\"https://colab.research.google.com/github/TuncayArican/Python-Assignment/blob/main/Assignment_10_08_(Letters_Count).ipynb\" target=\"_parent\"><img src=\"https://colab.research.google.com/assets/colab-badge.svg\" alt=\"Open In Colab\"/></a>"
      ]
    },
    {
      "cell_type": "code",
      "execution_count": 2,
      "metadata": {
        "colab": {
          "base_uri": "https://localhost:8080/"
        },
        "id": "2_VDfOZtteID",
        "outputId": "f88b8939-e753-4c25-ee41-b0f8219d3517"
      },
      "outputs": [
        {
          "name": "stdout",
          "output_type": "stream",
          "text": [
            "Please write a sentence :  Tuncay Arıcan wants to be a good programmer\n"
          ]
        },
        {
          "output_type": "execute_result",
          "data": {
            "text/plain": [
              "{' ': 7,\n",
              " 'A': 1,\n",
              " 'T': 1,\n",
              " 'a': 5,\n",
              " 'b': 1,\n",
              " 'c': 2,\n",
              " 'd': 1,\n",
              " 'e': 2,\n",
              " 'g': 2,\n",
              " 'm': 2,\n",
              " 'n': 3,\n",
              " 'o': 4,\n",
              " 'p': 1,\n",
              " 'r': 4,\n",
              " 's': 1,\n",
              " 't': 2,\n",
              " 'u': 1,\n",
              " 'w': 1,\n",
              " 'y': 1,\n",
              " 'ı': 1}"
            ]
          },
          "metadata": {},
          "execution_count": 2
        }
      ],
      "source": [
        "word=input(\"Please write a sentence :  \")\n",
        "dict1={}\n",
        "for i in word:\n",
        "  dict1[i] = word.count(i)\n",
        "dict1\n"
      ]
    }
  ]
}