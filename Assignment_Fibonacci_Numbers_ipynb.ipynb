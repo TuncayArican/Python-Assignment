{
  "nbformat": 4,
  "nbformat_minor": 0,
  "metadata": {
    "colab": {
      "name": "Assignment_Fibonacci Numbers_ipynb",
      "provenance": [],
      "authorship_tag": "ABX9TyO8zFKUAqE0YXHBdnXy8IP1",
      "include_colab_link": true
    },
    "kernelspec": {
      "name": "python3",
      "display_name": "Python 3"
    },
    "language_info": {
      "name": "python"
    }
  },
  "cells": [
    {
      "cell_type": "markdown",
      "metadata": {
        "id": "view-in-github",
        "colab_type": "text"
      },
      "source": [
        "<a href=\"https://colab.research.google.com/github/TuncayArican/Python-Assignment/blob/main/Assignment_Fibonacci_Numbers_ipynb.ipynb\" target=\"_parent\"><img src=\"https://colab.research.google.com/assets/colab-badge.svg\" alt=\"Open In Colab\"/></a>"
      ]
    },
    {
      "cell_type": "markdown",
      "metadata": {
        "id": "Orfz8Yg_I4aT"
      },
      "source": [
        "Task : Create a list consisting of Fibonacci numbers from 1 to 55 using control flow statements."
      ]
    },
    {
      "cell_type": "code",
      "metadata": {
        "id": "M7exozWdI5xp"
      },
      "source": [
        "#[1, 1, 2, 3, 5, 8, 13, 21, 34, 55]"
      ],
      "execution_count": null,
      "outputs": []
    },
    {
      "cell_type": "code",
      "metadata": {
        "colab": {
          "base_uri": "https://localhost:8080/"
        },
        "id": "hQVo7DgQJAAs",
        "outputId": "4e9c1d29-3449-4502-8725-c4ebdb96c6fe"
      },
      "source": [
        "list1=[1,1]\n",
        "while True:\n",
        "  a=(list1[-1]+list1[-2])\n",
        "  list1.append(a)\n",
        "  if a==55:\n",
        "    break\n",
        "print(list1)\n",
        "\n",
        "\n"
      ],
      "execution_count": 25,
      "outputs": [
        {
          "output_type": "stream",
          "name": "stdout",
          "text": [
            "[1, 1, 2, 3, 5, 8, 13, 21, 34, 55]\n"
          ]
        }
      ]
    },
    {
      "cell_type": "code",
      "metadata": {
        "id": "wf_TLnzMJx6t"
      },
      "source": [
        ""
      ],
      "execution_count": null,
      "outputs": []
    }
  ]
}