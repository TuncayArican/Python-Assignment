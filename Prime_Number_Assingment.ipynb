{
  "nbformat": 4,
  "nbformat_minor": 0,
  "metadata": {
    "colab": {
      "name": "Prime Number_Assingment.ipynb",
      "provenance": [],
      "authorship_tag": "ABX9TyOTFcpEQfKTdebeuPeEUuLA",
      "include_colab_link": true
    },
    "kernelspec": {
      "name": "python3",
      "display_name": "Python 3"
    },
    "language_info": {
      "name": "python"
    }
  },
  "cells": [
    {
      "cell_type": "markdown",
      "metadata": {
        "id": "view-in-github",
        "colab_type": "text"
      },
      "source": [
        "<a href=\"https://colab.research.google.com/github/TuncayArican/Python-Assignment/blob/main/Prime_Number_Assingment.ipynb\" target=\"_parent\"><img src=\"https://colab.research.google.com/assets/colab-badge.svg\" alt=\"Open In Colab\"/></a>"
      ]
    },
    {
      "cell_type": "code",
      "metadata": {
        "id": "vpRrSsjYeC9Q"
      },
      "source": [
        " Write a program that takes a number from the user and prints the result to check if it is a prime number."
      ],
      "execution_count": null,
      "outputs": []
    },
    {
      "cell_type": "code",
      "metadata": {
        "colab": {
          "base_uri": "https://localhost:8080/"
        },
        "id": "-3-Z8_EmeFJ3",
        "outputId": "6a8c1a1d-6269-4010-be46-3e27e9382ba9"
      },
      "source": [
        "num= int(input(\"Please enter a number: \"))\n",
        "sayac=0\n",
        "for i in range(2,num):\n",
        "  if num%i == 0:\n",
        "    sayac+=1\n",
        "if sayac==0 :\n",
        "  print(\"This is a prime number\") \n",
        "else :\n",
        "  print(\"This is not a prime number\") "
      ],
      "execution_count": 5,
      "outputs": [
        {
          "output_type": "stream",
          "name": "stdout",
          "text": [
            "Please enter a number: 2\n",
            "This is a prime number\n"
          ]
        }
      ]
    }
  ]
}